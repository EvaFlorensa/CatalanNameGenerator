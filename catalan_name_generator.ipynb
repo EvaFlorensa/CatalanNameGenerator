{
  "nbformat": 4,
  "nbformat_minor": 0,
  "metadata": {
    "colab": {
      "provenance": []
    },
    "kernelspec": {
      "name": "python3",
      "display_name": "Python 3"
    },
    "language_info": {
      "name": "python"
    }
  },
  "cells": [
    {
      "cell_type": "code",
      "source": [
        "# Reading the CSV files and displaying them in dataframes.\n",
        "import pandas as pd\n",
        "df2010 = pd.read_csv('https://raw.githubusercontent.com/EvaFlorensa/CatalanNameGenerator/main/Noms_2010-19.csv')\n",
        "df1940 = pd.read_csv('https://raw.githubusercontent.com/EvaFlorensa/CatalanNameGenerator/main/Noms_1940-49.csv')"
      ],
      "metadata": {
        "id": "exJQ2QwM7r92"
      },
      "execution_count": 89,
      "outputs": []
    },
    {
      "cell_type": "code",
      "source": [
        "# Function for getting the names from the dataframe and pre-processing them.\n",
        "def get_names(df):\n",
        "  column_names = df['Sexe'].values # Accessign the column with the names and getting the values in an array.\n",
        "  names = [str(name) for name in column_names.tolist()] # Changing the names from the array into a list to work with them.\n",
        "  split_names = [name.split('/') for name in names] # Splitting the names that contain a slash (/) into two. The result is a list of lists.\n",
        "  noms = [name for lst in split_names for name in lst] # Changing from a list of lists to a list of strings.\n",
        "  noms = [name.lower() for name in noms] # Putting all the names in lowercase.\n",
        "  return(noms)"
      ],
      "metadata": {
        "id": "epeD8ytT7rx_"
      },
      "execution_count": 90,
      "outputs": []
    },
    {
      "cell_type": "code",
      "source": [
        "# getting the names from the period 2010-2019.\n",
        "noms2010 = get_names(df2010)\n",
        "len(noms2010)"
      ],
      "metadata": {
        "colab": {
          "base_uri": "https://localhost:8080/"
        },
        "id": "68NuXkC2Tw2a",
        "outputId": "2765c33b-db7e-43bd-b2c4-1f500fd98e33"
      },
      "execution_count": 91,
      "outputs": [
        {
          "output_type": "execute_result",
          "data": {
            "text/plain": [
              "8429"
            ]
          },
          "metadata": {},
          "execution_count": 91
        }
      ]
    },
    {
      "cell_type": "code",
      "execution_count": 33,
      "metadata": {
        "id": "vowXRstocd8F"
      },
      "outputs": [],
      "source": [
        "# Packages needed for building the character-based language model.\n",
        "import torch\n",
        "import torch.nn.functional as F\n",
        "import matplotlib.pyplot as plt # for making figures\n",
        "%matplotlib inline"
      ]
    },
    {
      "cell_type": "code",
      "source": [
        "# Building the vocabulary of characters and mapping them to integers.\n",
        "chars = sorted(list(set(''.join(noms2010))))\n",
        "stoi = {s:i+1 for i,s in enumerate(chars)}\n",
        "stoi['.'] = 0\n",
        "itos = {i:s for s,i in stoi.items()}\n",
        "print(itos)"
      ],
      "metadata": {
        "colab": {
          "base_uri": "https://localhost:8080/"
        },
        "id": "EYnXhmWVcx-l",
        "outputId": "a12954bf-7e27-4b3d-e37e-4c5e5420fd20"
      },
      "execution_count": 34,
      "outputs": [
        {
          "output_type": "stream",
          "name": "stdout",
          "text": [
            "{1: ' ', 2: 'a', 3: 'b', 4: 'c', 5: 'd', 6: 'e', 7: 'f', 8: 'g', 9: 'h', 10: 'i', 11: 'j', 12: 'k', 13: 'l', 14: 'm', 15: 'n', 16: 'o', 17: 'p', 18: 'q', 19: 'r', 20: 's', 21: 't', 22: 'u', 23: 'v', 24: 'w', 25: 'x', 26: 'y', 27: 'z', 28: '·', 29: 'à', 30: 'á', 31: 'ç', 32: 'è', 33: 'é', 34: 'í', 35: 'ï', 36: 'ò', 37: 'ó', 38: 'ú', 39: 'ü', 0: '.'}\n"
          ]
        }
      ]
    },
    {
      "cell_type": "code",
      "source": [
        "block_size = 3 # Context length of characters that we will use to predict the next one.\n",
        "\n",
        "# Function for building the dataset that we will use in our model.\n",
        "def build_dataset(names):\n",
        "  X, Y = [], []\n",
        "  for w in names:\n",
        "\n",
        "    #print(w)\n",
        "    context = [0] * block_size\n",
        "    for ch in w + '.':\n",
        "      ix = stoi[ch]\n",
        "      X.append(context)\n",
        "      Y.append(ix)\n",
        "      #print(''.join(itos[i] for i in context), '--->', itos[ix])\n",
        "      context = context[1:] + [ix] # crop and append\n",
        "\n",
        "  X = torch.tensor(X)\n",
        "  Y = torch.tensor(Y)\n",
        "  print(X.shape, Y.shape)\n",
        "  return X, Y\n",
        "\n",
        "# Building the dataset of the period 2010-2019.\n",
        "import random\n",
        "random.seed(42)\n",
        "random.shuffle(noms2010)\n",
        "n1 = int(0.8*len(noms2010))\n",
        "n2 = int(0.9*len(noms2010))\n",
        "\n",
        "Xtr, Ytr = build_dataset(noms2010[:n1])\n",
        "Xdev, Ydev = build_dataset(noms2010[n1:n2])\n",
        "Xte, Yte = build_dataset(noms2010[n2:])"
      ],
      "metadata": {
        "colab": {
          "base_uri": "https://localhost:8080/"
        },
        "id": "MB5XgJxdczFi",
        "outputId": "a86e9bd2-f281-46ca-df59-c7ee04b8d31b"
      },
      "execution_count": 62,
      "outputs": [
        {
          "output_type": "stream",
          "name": "stdout",
          "text": [
            "torch.Size([58064, 3]) torch.Size([58064])\n",
            "torch.Size([7270, 3]) torch.Size([7270])\n",
            "torch.Size([7325, 3]) torch.Size([7325])\n"
          ]
        }
      ]
    },
    {
      "cell_type": "code",
      "source": [
        "# Creating the parameters for the language model.\n",
        "g = torch.Generator().manual_seed(2147483647) # The number is for reproducibility.\n",
        "C = torch.randn((40, 10), generator=g) # 40 tokens (one per character in our vocabulary), 10 dimensions\n",
        "W1 = torch.randn((30, 200), generator=g) # Weights layer 1.\n",
        "b1 = torch.randn(200, generator=g) # Bias layer 1.\n",
        "W2 = torch.randn((200, 40), generator=g) # Weights layer 2.\n",
        "b2 = torch.randn(40, generator=g) # Bias layer 2.\n",
        "parameters = [C, W1, b1, W2, b2]"
      ],
      "metadata": {
        "id": "EAA0_oigc13X"
      },
      "execution_count": 63,
      "outputs": []
    },
    {
      "cell_type": "code",
      "source": [
        "sum(p.nelement() for p in parameters) # Total number of parameters that will be used."
      ],
      "metadata": {
        "colab": {
          "base_uri": "https://localhost:8080/"
        },
        "id": "_HcVef6-c5S4",
        "outputId": "92c767c1-f229-4778-9cf8-e2004f2cffb8"
      },
      "execution_count": 64,
      "outputs": [
        {
          "output_type": "execute_result",
          "data": {
            "text/plain": [
              "14640"
            ]
          },
          "metadata": {},
          "execution_count": 64
        }
      ]
    },
    {
      "cell_type": "code",
      "source": [
        "for p in parameters:\n",
        "  p.requires_grad = True"
      ],
      "metadata": {
        "id": "coNBea1sc6tm"
      },
      "execution_count": 65,
      "outputs": []
    },
    {
      "cell_type": "code",
      "source": [
        "lre = torch.linspace(-3, 0, 1000)\n",
        "lrs = 10**lre"
      ],
      "metadata": {
        "id": "nFWpAj_9c9Yr"
      },
      "execution_count": 66,
      "outputs": []
    },
    {
      "cell_type": "code",
      "source": [
        "# Setting empty lists to keep track of the learning process of the model.\n",
        "lri = []\n",
        "lossi = []\n",
        "stepi = []"
      ],
      "metadata": {
        "id": "t2huuyTudBlF"
      },
      "execution_count": 67,
      "outputs": []
    },
    {
      "cell_type": "code",
      "source": [
        "for i in range(200000):\n",
        "\n",
        "  # minibatch construct\n",
        "  ix = torch.randint(0, Xtr.shape[0], (32,))\n",
        "\n",
        "  # forward pass\n",
        "  emb = C[Xtr[ix]]\n",
        "  h = torch.tanh(emb.view(-1, 30) @ W1 + b1)\n",
        "  logits = h @ W2 + b2\n",
        "  loss = F.cross_entropy(logits, Ytr[ix])\n",
        "\n",
        "  # backward pass\n",
        "  for p in parameters:\n",
        "    p.grad = None\n",
        "  loss.backward()\n",
        "\n",
        "  # update\n",
        "  #lr = lrs[i]\n",
        "  lr = 0.1 if i < 100000 else 0.0001\n",
        "  for p in parameters:\n",
        "    p.data += -lr * p.grad\n",
        "\n",
        "  # track stats\n",
        "  #lri.append(lre[i])\n",
        "  stepi.append(i)\n",
        "  lossi.append(loss.log10().item())\n",
        "\n",
        "print(loss.item())"
      ],
      "metadata": {
        "id": "jiKD-PPOdClh",
        "colab": {
          "base_uri": "https://localhost:8080/"
        },
        "outputId": "8d28c647-bc2f-4e46-bff6-274e41213b4c"
      },
      "execution_count": 68,
      "outputs": [
        {
          "output_type": "stream",
          "name": "stdout",
          "text": [
            "1.7216938734054565\n"
          ]
        }
      ]
    },
    {
      "cell_type": "code",
      "source": [
        "plt.plot(stepi, lossi)"
      ],
      "metadata": {
        "id": "ZBAYXZ_rdGIG",
        "colab": {
          "base_uri": "https://localhost:8080/",
          "height": 447
        },
        "outputId": "cdb1cb72-d140-4a6b-a00f-fd1a4fabc504"
      },
      "execution_count": 69,
      "outputs": [
        {
          "output_type": "execute_result",
          "data": {
            "text/plain": [
              "[<matplotlib.lines.Line2D at 0x7b45d3108fa0>]"
            ]
          },
          "metadata": {},
          "execution_count": 69
        },
        {
          "output_type": "display_data",
          "data": {
            "text/plain": [
              "<Figure size 640x480 with 1 Axes>"
            ],
            "image/png": "[encoded data removed]"
          },
          "metadata": {}
        }
      ]
    },
    {
      "cell_type": "code",
      "source": [
        "# Calculating training loss.\n",
        "emb = C[Xtr] # (32, 3, 2)\n",
        "h = torch.tanh(emb.view(-1, 30) @ W1 + b1) # (32, 100)\n",
        "logits = h @ W2 + b2 # (32, 27)\n",
        "loss = F.cross_entropy(logits, Ytr)\n",
        "loss"
      ],
      "metadata": {
        "id": "ZlhYinNgdIVF",
        "colab": {
          "base_uri": "https://localhost:8080/"
        },
        "outputId": "fc009066-965c-4806-ee74-6eb92fbb516e"
      },
      "execution_count": 70,
      "outputs": [
        {
          "output_type": "execute_result",
          "data": {
            "text/plain": [
              "tensor(1.7255, grad_fn=<NllLossBackward0>)"
            ]
          },
          "metadata": {},
          "execution_count": 70
        }
      ]
    },
    {
      "cell_type": "code",
      "source": [
        "# Calculating validation loss.\n",
        "emb = C[Xdev] # (32, 3, 2)\n",
        "h = torch.tanh(emb.view(-1, 30) @ W1 + b1) # (32, 100)\n",
        "logits = h @ W2 + b2 # (32, 27)\n",
        "loss = F.cross_entropy(logits, Ydev)\n",
        "loss"
      ],
      "metadata": {
        "id": "cJH3DDu4dLTM",
        "colab": {
          "base_uri": "https://localhost:8080/"
        },
        "outputId": "52594c84-f9f9-4761-dfed-1b3d95c34702"
      },
      "execution_count": 71,
      "outputs": [
        {
          "output_type": "execute_result",
          "data": {
            "text/plain": [
              "tensor(2.0688, grad_fn=<NllLossBackward0>)"
            ]
          },
          "metadata": {},
          "execution_count": 71
        }
      ]
    },
    {
      "cell_type": "code",
      "source": [
        "# Function for getting a sample of generated names.\n",
        "def generate_names(num_names):\n",
        "    generated_names = []\n",
        "    g = torch.Generator().manual_seed(2147483647 + 10)\n",
        "\n",
        "    for _ in range(num_names):\n",
        "        out = []\n",
        "        context = [0] * block_size\n",
        "        while True:\n",
        "            emb = C[torch.tensor([context])]\n",
        "            h = torch.tanh(emb.view(1, -1) @ W1 + b1)\n",
        "            logits = h @ W2 + b2\n",
        "            probs = F.softmax(logits, dim=1)\n",
        "            ix = torch.multinomial(probs, num_samples=1, generator=g).item()\n",
        "            context = context[1:] + [ix]\n",
        "            out.append(ix)\n",
        "            if ix == 0:\n",
        "                break\n",
        "\n",
        "        generated_name = ''.join(itos[i] for i in out)\n",
        "        generated_names.append(generated_name)\n",
        "\n",
        "    return generated_names\n",
        "\n",
        "# Generated names for the period 2010-2019.\n",
        "names2010_generated = generate_names(20)\n",
        "names2010_generated"
      ],
      "metadata": {
        "colab": {
          "base_uri": "https://localhost:8080/"
        },
        "id": "Bikk6JU0w2Es",
        "outputId": "6fd6e8da-5c5e-42fb-f934-5c38a4ae0ef2"
      },
      "execution_count": 72,
      "outputs": [
        {
          "output_type": "execute_result",
          "data": {
            "text/plain": [
              "['ashleyla maria.',\n",
              " 'lucas josé.',\n",
              " 'sukrisaf.',\n",
              " 'mil.',\n",
              " 'àngel fer.',\n",
              " 'hillopo.',\n",
              " 'maria.',\n",
              " 'muri.',\n",
              " 'maría samuel dana.',\n",
              " 'rica.',\n",
              " 'yiharlos josé.',\n",
              " 'noskiroima.',\n",
              " 'ther.',\n",
              " 'alan carwi.',\n",
              " 'iteldar.',\n",
              " 'junia.',\n",
              " 'remy danie.',\n",
              " 'muhammateo.',\n",
              " 'aina.',\n",
              " 'itz.']"
            ]
          },
          "metadata": {},
          "execution_count": 72
        }
      ]
    },
    {
      "cell_type": "code",
      "source": [
        "# Function to assess quality, by counting how many of the generated names exist in reality:\n",
        "def assess_quality(generated_names, real_names):\n",
        "    existing_names = [word for word in generated_names if word[:-1] in real_names] # Checking if the generated names are in the list of real names.\n",
        "    existing_count = len(existing_names)\n",
        "    # Calculating the percentage of existing words:\n",
        "    total_count = len(generated_names)\n",
        "    existing_percentage = (existing_count / total_count) * 100\n",
        "\n",
        "    return existing_percentage, existing_names\n",
        "\n",
        "# Quality of the generated names of the period 2010-2019:\n",
        "assess_quality(names2010_generated, noms2010)"
      ],
      "metadata": {
        "colab": {
          "base_uri": "https://localhost:8080/"
        },
        "id": "PRxIBHPIwNks",
        "outputId": "607f61da-cf28-4c61-8630-1b8da73660c7"
      },
      "execution_count": 87,
      "outputs": [
        {
          "output_type": "execute_result",
          "data": {
            "text/plain": [
              "(20.0, ['lucas josé.', 'maria.', 'junia.', 'aina.'])"
            ]
          },
          "metadata": {},
          "execution_count": 87
        }
      ]
    },
    {
      "cell_type": "markdown",
      "source": [
        "## Now, let's apply the model to the second period of time (1940-1949):"
      ],
      "metadata": {
        "id": "G3eOPmNUaqoX"
      }
    },
    {
      "cell_type": "code",
      "source": [
        "# First, we obtain the names from the dataset with the function get_names.\n",
        "noms1940 = get_names(df1940)\n",
        "len(noms1940)"
      ],
      "metadata": {
        "id": "BHApQKbRTE6E",
        "colab": {
          "base_uri": "https://localhost:8080/"
        },
        "outputId": "c8059bfc-7cc9-46f5-9e10-1d16e3b03b66"
      },
      "execution_count": 74,
      "outputs": [
        {
          "output_type": "execute_result",
          "data": {
            "text/plain": [
              "3854"
            ]
          },
          "metadata": {},
          "execution_count": 74
        }
      ]
    },
    {
      "cell_type": "code",
      "source": [
        "# Then we build the dataset for the second period.\n",
        "random.seed(42)\n",
        "random.shuffle(noms1940)\n",
        "n3 = int(0.8*len(noms1940))\n",
        "n4 = int(0.9*len(noms1940))\n",
        "\n",
        "Xtr2, Ytr2 = build_dataset(noms1940[:n3])\n",
        "Xdev2, Ydev2 = build_dataset(noms1940[n3:n4])\n",
        "Xte2, Yte2 = build_dataset(noms1940[n4:])"
      ],
      "metadata": {
        "id": "pZZWBWTeWGl_",
        "colab": {
          "base_uri": "https://localhost:8080/"
        },
        "outputId": "5812c556-0648-46f5-b91b-94b5b6c69495"
      },
      "execution_count": 75,
      "outputs": [
        {
          "output_type": "stream",
          "name": "stdout",
          "text": [
            "torch.Size([31614, 3]) torch.Size([31614])\n",
            "torch.Size([3969, 3]) torch.Size([3969])\n",
            "torch.Size([3899, 3]) torch.Size([3899])\n"
          ]
        }
      ]
    },
    {
      "cell_type": "code",
      "source": [
        "# Restarting the lists for the training process.\n",
        "lri2 = []\n",
        "lossi2 = []\n",
        "stepi2 = []"
      ],
      "metadata": {
        "id": "pIKXt1j2jUig"
      },
      "execution_count": 76,
      "outputs": []
    },
    {
      "cell_type": "code",
      "source": [
        "for i in range(200000):\n",
        "\n",
        "  # minibatch construct\n",
        "  ix = torch.randint(0, Xtr2.shape[0], (32,))\n",
        "\n",
        "  # forward pass\n",
        "  emb = C[Xtr2[ix]] # (32, 3, 2)\n",
        "  h = torch.tanh(emb.view(-1, 30) @ W1 + b1) # (32, 100)\n",
        "  logits = h @ W2 + b2 # (32, 40)\n",
        "  loss = F.cross_entropy(logits, Ytr2[ix])\n",
        "  #print(loss.item())\n",
        "\n",
        "  # backward pass\n",
        "  for p in parameters:\n",
        "    p.grad = None\n",
        "  loss.backward()\n",
        "\n",
        "  # update\n",
        "  #lr = lrs[i]\n",
        "  lr = 0.1 if i < 100000 else 0.0001\n",
        "  for p in parameters:\n",
        "    p.data += -lr * p.grad\n",
        "\n",
        "  # track stats\n",
        "  #lri.append(lre[i])\n",
        "  stepi2.append(i)\n",
        "  lossi2.append(loss.log10().item())\n",
        "\n",
        "print(loss.item())"
      ],
      "metadata": {
        "colab": {
          "base_uri": "https://localhost:8080/"
        },
        "id": "uWZTW63gkWHb",
        "outputId": "3b233491-8e58-4261-a614-0ab60fe8b88f"
      },
      "execution_count": 77,
      "outputs": [
        {
          "output_type": "stream",
          "name": "stdout",
          "text": [
            "0.9245763421058655\n"
          ]
        }
      ]
    },
    {
      "cell_type": "code",
      "source": [
        "# Calculating training loss.\n",
        "emb = C[Xtr2] # (32, 3, 2)\n",
        "h = torch.tanh(emb.view(-1, 30) @ W1 + b1) # (32, 100)\n",
        "logits = h @ W2 + b2 # (32, 27)\n",
        "loss = F.cross_entropy(logits, Ytr2)\n",
        "loss"
      ],
      "metadata": {
        "colab": {
          "base_uri": "https://localhost:8080/"
        },
        "id": "cl-k9kq6kgIt",
        "outputId": "550e8fc3-b936-4a08-dd11-8f48e575dc46"
      },
      "execution_count": 78,
      "outputs": [
        {
          "output_type": "execute_result",
          "data": {
            "text/plain": [
              "tensor(1.3046, grad_fn=<NllLossBackward0>)"
            ]
          },
          "metadata": {},
          "execution_count": 78
        }
      ]
    },
    {
      "cell_type": "code",
      "source": [
        "# Calculating validation loss.\n",
        "emb = C[Xdev2] # (32, 3, 2)\n",
        "h = torch.tanh(emb.view(-1, 30) @ W1 + b1) # (32, 100)\n",
        "logits = h @ W2 + b2 # (32, 27)\n",
        "loss = F.cross_entropy(logits, Ydev2)\n",
        "loss"
      ],
      "metadata": {
        "colab": {
          "base_uri": "https://localhost:8080/"
        },
        "id": "gPh0t-7YkgjY",
        "outputId": "ab18e41c-49ba-4754-b3be-507aeda866ba"
      },
      "execution_count": 79,
      "outputs": [
        {
          "output_type": "execute_result",
          "data": {
            "text/plain": [
              "tensor(1.7396, grad_fn=<NllLossBackward0>)"
            ]
          },
          "metadata": {},
          "execution_count": 79
        }
      ]
    },
    {
      "cell_type": "code",
      "source": [
        "# Sample of generated names for the period 1940-1941.\n",
        "names1940_generated = generate_names(20)\n",
        "names1940_generated"
      ],
      "metadata": {
        "colab": {
          "base_uri": "https://localhost:8080/"
        },
        "id": "8Qve23MEklQ_",
        "outputId": "454463e5-e8d5-4264-9aad-a8b8a25745a0"
      },
      "execution_count": 80,
      "outputs": [
        {
          "output_type": "execute_result",
          "data": {
            "text/plain": [
              "['maría la maria.',\n",
              " 'luc.',\n",
              " 'maria.',\n",
              " 'del riticiane.',\n",
              " 'àngel rosa.',\n",
              " 'geno.',\n",
              " 'mohans josé.',\n",
              " 'valèria.',\n",
              " 'abundo enmirena.',\n",
              " 'nicarlos santina.',\n",
              " 'juan marta maria de la pila.',\n",
              " 'dor.',\n",
              " 'juan josefina.',\n",
              " 'irme enrique.',\n",
              " 'taida.',\n",
              " 'ino.',\n",
              " 'miguel rosanda.',\n",
              " 'melcho.',\n",
              " 'pedro.',\n",
              " 'agustín.']"
            ]
          },
          "metadata": {},
          "execution_count": 80
        }
      ]
    },
    {
      "cell_type": "code",
      "source": [
        "# Assessing quality of the names generated for the period 1940-1941.\n",
        "assess_quality(names1940_generated, noms1940)"
      ],
      "metadata": {
        "colab": {
          "base_uri": "https://localhost:8080/"
        },
        "id": "H7P_GcHpwb6Y",
        "outputId": "f1136e92-400d-489a-b476-b5cb28a3a307"
      },
      "execution_count": 88,
      "outputs": [
        {
          "output_type": "execute_result",
          "data": {
            "text/plain": [
              "(20.0, ['maria.', 'valèria.', 'pedro.', 'agustín.'])"
            ]
          },
          "metadata": {},
          "execution_count": 88
        }
      ]
    }
  ]
}